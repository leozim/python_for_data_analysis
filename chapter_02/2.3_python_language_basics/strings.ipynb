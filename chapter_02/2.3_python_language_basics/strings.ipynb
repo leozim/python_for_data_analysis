{
 "cells": [
  {
   "cell_type": "code",
   "execution_count": 1,
   "id": "6de4ecc2-9610-4e5c-89c9-36ff41a80e52",
   "metadata": {},
   "outputs": [],
   "source": [
    "# we can write string using either single quotes or double quotes but double quotes are generally favored"
   ]
  },
  {
   "cell_type": "code",
   "execution_count": 2,
   "id": "a3db03c7-bdc1-472f-b7b4-ada097984cb5",
   "metadata": {},
   "outputs": [],
   "source": [
    "a = 'one wayy of writing a string'\n",
    "b = \"another way\""
   ]
  },
  {
   "cell_type": "code",
   "execution_count": 11,
   "id": "8f0e7608-a67c-4b50-9b90-1fc9bc8dd494",
   "metadata": {},
   "outputs": [],
   "source": [
    "# for multine string with line breaks, we can use triple quotes, either ''' our \"\"\"\n",
    "c = \"\"\"\n",
    "This is a longer string that\n",
    "spans multiple lines\n",
    "\"\"\""
   ]
  },
  {
   "cell_type": "code",
   "execution_count": 12,
   "id": "2b4bdb49-ef72-4a58-900d-f4c5198bbb62",
   "metadata": {},
   "outputs": [
    {
     "data": {
      "text/plain": [
       "'\\nThis is a longer string that\\nspans multiple lines\\n'"
      ]
     },
     "execution_count": 12,
     "metadata": {},
     "output_type": "execute_result"
    }
   ],
   "source": [
    "c"
   ]
  },
  {
   "cell_type": "code",
   "execution_count": 13,
   "id": "67e103a3-e91d-4777-a8c6-81739b0d48c4",
   "metadata": {},
   "outputs": [
    {
     "name": "stdout",
     "output_type": "stream",
     "text": [
      "\n",
      "This is a longer string that\n",
      "spans multiple lines\n",
      "\n"
     ]
    }
   ],
   "source": [
    "print(c)"
   ]
  },
  {
   "cell_type": "code",
   "execution_count": 14,
   "id": "6217261f-d8f4-4ffa-806a-770f2628a802",
   "metadata": {},
   "outputs": [
    {
     "data": {
      "text/plain": [
       "3"
      ]
     },
     "execution_count": 14,
     "metadata": {},
     "output_type": "execute_result"
    }
   ],
   "source": [
    "# this string c actually contains four lines of text. we can count the new line character wuth the count method on c\n",
    "c.count(\"\\n\")"
   ]
  },
  {
   "cell_type": "code",
   "execution_count": null,
   "id": "70c92588-4696-42b6-b0ee-c8633b97048d",
   "metadata": {},
   "outputs": [],
   "source": []
  }
 ],
 "metadata": {
  "kernelspec": {
   "display_name": "Python 3 (ipykernel)",
   "language": "python",
   "name": "python3"
  },
  "language_info": {
   "codemirror_mode": {
    "name": "ipython",
    "version": 3
   },
   "file_extension": ".py",
   "mimetype": "text/x-python",
   "name": "python",
   "nbconvert_exporter": "python",
   "pygments_lexer": "ipython3",
   "version": "3.12.8"
  }
 },
 "nbformat": 4,
 "nbformat_minor": 5
}
