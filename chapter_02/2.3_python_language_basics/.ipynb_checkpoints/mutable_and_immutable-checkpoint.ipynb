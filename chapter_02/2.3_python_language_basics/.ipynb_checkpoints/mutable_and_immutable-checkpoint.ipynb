{
 "cells": [
  {
   "cell_type": "code",
   "execution_count": 1,
   "id": "bd328a1d-2db4-4abf-9d3e-81294b7fc65c",
   "metadata": {},
   "outputs": [],
   "source": [
    "a_list = [\"foo\", 2, [4, 5]]"
   ]
  },
  {
   "cell_type": "code",
   "execution_count": 2,
   "id": "e8d1c6d3-a786-4d90-93a1-1ac4c1e28b81",
   "metadata": {},
   "outputs": [],
   "source": [
    "a_list[2] = [3, 4]"
   ]
  },
  {
   "cell_type": "code",
   "execution_count": 3,
   "id": "fef6a7f2-58e7-432c-9f3a-a0f3cdcd4e18",
   "metadata": {},
   "outputs": [
    {
     "data": {
      "text/plain": [
       "['foo', 2, [3, 4]]"
      ]
     },
     "execution_count": 3,
     "metadata": {},
     "output_type": "execute_result"
    }
   ],
   "source": [
    "a_list"
   ]
  },
  {
   "cell_type": "code",
   "execution_count": 7,
   "id": "918161a0-8e9c-4616-a85b-d2476b69aa86",
   "metadata": {},
   "outputs": [],
   "source": [
    "# changing the list's element list type to tuple\n",
    "a_list[2] = (1, 2)"
   ]
  },
  {
   "cell_type": "code",
   "execution_count": 8,
   "id": "734dd9d0-c76a-47c3-989e-a639e1de189e",
   "metadata": {},
   "outputs": [
    {
     "data": {
      "text/plain": [
       "['foo', 2, (1, 2)]"
      ]
     },
     "execution_count": 8,
     "metadata": {},
     "output_type": "execute_result"
    }
   ],
   "source": [
    "a_list"
   ]
  },
  {
   "cell_type": "code",
   "execution_count": 9,
   "id": "e3888e1b-b5b6-48d5-a091-f4b68cbe2f55",
   "metadata": {},
   "outputs": [],
   "source": [
    "# strings and tuples are IMMUTABLE TYPES, which means their internal data cannot be changed\n",
    "a_tuple = (3, 5, (4, 5))"
   ]
  },
  {
   "cell_type": "code",
   "execution_count": 10,
   "id": "1f6cbcb8-4141-43c0-9244-bf6c19808211",
   "metadata": {},
   "outputs": [
    {
     "data": {
      "text/plain": [
       "(3, 5, (4, 5))"
      ]
     },
     "execution_count": 10,
     "metadata": {},
     "output_type": "execute_result"
    }
   ],
   "source": [
    "a_tuple"
   ]
  },
  {
   "cell_type": "code",
   "execution_count": 11,
   "id": "a819a23d-3ad8-4866-91fb-921379832e31",
   "metadata": {},
   "outputs": [
    {
     "ename": "TypeError",
     "evalue": "'tuple' object does not support item assignment",
     "output_type": "error",
     "traceback": [
      "\u001b[31m---------------------------------------------------------------------------\u001b[39m",
      "\u001b[31mTypeError\u001b[39m                                 Traceback (most recent call last)",
      "\u001b[36mCell\u001b[39m\u001b[36m \u001b[39m\u001b[32mIn[11]\u001b[39m\u001b[32m, line 1\u001b[39m\n\u001b[32m----> \u001b[39m\u001b[32m1\u001b[39m \u001b[43ma_tuple\u001b[49m\u001b[43m[\u001b[49m\u001b[32;43m1\u001b[39;49m\u001b[43m]\u001b[49m = \u001b[33m\"\u001b[39m\u001b[33mfour\u001b[39m\u001b[33m\"\u001b[39m\n",
      "\u001b[31mTypeError\u001b[39m: 'tuple' object does not support item assignment"
     ]
    }
   ],
   "source": [
    "a_tuple[1] = \"four\""
   ]
  },
  {
   "cell_type": "code",
   "execution_count": 12,
   "id": "0473b02f-0efa-4eec-b832-b7f9bc9bb0d2",
   "metadata": {},
   "outputs": [
    {
     "ename": "TypeError",
     "evalue": "'tuple' object does not support item assignment",
     "output_type": "error",
     "traceback": [
      "\u001b[31m---------------------------------------------------------------------------\u001b[39m",
      "\u001b[31mTypeError\u001b[39m                                 Traceback (most recent call last)",
      "\u001b[36mCell\u001b[39m\u001b[36m \u001b[39m\u001b[32mIn[12]\u001b[39m\u001b[32m, line 1\u001b[39m\n\u001b[32m----> \u001b[39m\u001b[32m1\u001b[39m \u001b[43ma_tuple\u001b[49m\u001b[43m[\u001b[49m\u001b[32;43m2\u001b[39;49m\u001b[43m]\u001b[49m = \u001b[32m6\u001b[39m\n",
      "\u001b[31mTypeError\u001b[39m: 'tuple' object does not support item assignment"
     ]
    }
   ],
   "source": [
    "a_tuple[2] = 6"
   ]
  },
  {
   "cell_type": "code",
   "execution_count": 1,
   "id": "f2c2e061-801d-44a6-ad5a-c4d5881feed9",
   "metadata": {},
   "outputs": [],
   "source": [
    "# remember string in Python are IMMUTABLE\n",
    "a_string = \"this is a string\""
   ]
  },
  {
   "cell_type": "code",
   "execution_count": 2,
   "id": "997838f8-adc4-47ef-b4c5-db76e4cb38a7",
   "metadata": {},
   "outputs": [
    {
     "ename": "TypeError",
     "evalue": "'str' object does not support item assignment",
     "output_type": "error",
     "traceback": [
      "\u001b[31m---------------------------------------------------------------------------\u001b[39m",
      "\u001b[31mTypeError\u001b[39m                                 Traceback (most recent call last)",
      "\u001b[36mCell\u001b[39m\u001b[36m \u001b[39m\u001b[32mIn[2]\u001b[39m\u001b[32m, line 1\u001b[39m\n\u001b[32m----> \u001b[39m\u001b[32m1\u001b[39m \u001b[43ma_string\u001b[49m\u001b[43m[\u001b[49m\u001b[32;43m10\u001b[39;49m\u001b[43m]\u001b[49m = \u001b[33m\"\u001b[39m\u001b[33mf\u001b[39m\u001b[33m\"\u001b[39m\n",
      "\u001b[31mTypeError\u001b[39m: 'str' object does not support item assignment"
     ]
    }
   ],
   "source": [
    "a_string[10] = \"f\""
   ]
  },
  {
   "cell_type": "code",
   "execution_count": 3,
   "id": "29575d0b-2172-44f8-9a35-6758643f33b8",
   "metadata": {},
   "outputs": [],
   "source": [
    "# if we need to modify a string, we have to use a function or method, that creates a new string and assign to a new variable\n",
    "b = a_string.replace(\"string\", \"longer str\")"
   ]
  },
  {
   "cell_type": "code",
   "execution_count": 4,
   "id": "42458763-e6b0-47ab-ab38-0014fc3383f0",
   "metadata": {},
   "outputs": [
    {
     "data": {
      "text/plain": [
       "'this is a longer str'"
      ]
     },
     "execution_count": 4,
     "metadata": {},
     "output_type": "execute_result"
    }
   ],
   "source": [
    "b"
   ]
  },
  {
   "cell_type": "code",
   "execution_count": 5,
   "id": "bb586d36-0583-43aa-b67a-1ee6db3e967e",
   "metadata": {},
   "outputs": [
    {
     "data": {
      "text/plain": [
       "'this is a string'"
      ]
     },
     "execution_count": 5,
     "metadata": {},
     "output_type": "execute_result"
    }
   ],
   "source": [
    "# see that a_string remains unmodified\n",
    "a_string"
   ]
  },
  {
   "cell_type": "code",
   "execution_count": 6,
   "id": "12bc88f4-2529-4058-8d57-07d7ebdefec6",
   "metadata": {},
   "outputs": [],
   "source": [
    "# you can convert many Python objects to a string using the \"str\" function\n",
    "float_number = 5.6"
   ]
  },
  {
   "cell_type": "code",
   "execution_count": 7,
   "id": "59791d11-f948-48dc-a64c-5a05c3745c4b",
   "metadata": {},
   "outputs": [],
   "source": [
    "str_float_number = str(5.6)"
   ]
  },
  {
   "cell_type": "code",
   "execution_count": 8,
   "id": "cac19684-fc16-4852-8a53-fde55c5b5510",
   "metadata": {},
   "outputs": [
    {
     "data": {
      "text/plain": [
       "'5.6'"
      ]
     },
     "execution_count": 8,
     "metadata": {},
     "output_type": "execute_result"
    }
   ],
   "source": [
    "str_float_number"
   ]
  },
  {
   "cell_type": "code",
   "execution_count": 9,
   "id": "aa8a48d0-bb75-4529-af12-fce45e805b73",
   "metadata": {},
   "outputs": [
    {
     "data": {
      "text/plain": [
       "['P', 'y', 't', 'h', 'o', 'n']"
      ]
     },
     "execution_count": 9,
     "metadata": {},
     "output_type": "execute_result"
    }
   ],
   "source": [
    "# as a squence of Unicode characters, strings can be treated like othe sequences, such as lists and tuples\n",
    "s = \"Python\"\n",
    "list(s)"
   ]
  },
  {
   "cell_type": "code",
   "execution_count": 10,
   "id": "e17afafa-2e32-45b6-ba7c-2fef476bd4a0",
   "metadata": {},
   "outputs": [
    {
     "data": {
      "text/plain": [
       "'Python'"
      ]
     },
     "execution_count": 10,
     "metadata": {},
     "output_type": "execute_result"
    }
   ],
   "source": [
    "s"
   ]
  },
  {
   "cell_type": "code",
   "execution_count": 18,
   "id": "e83932ed-89c2-497b-932f-d5d33c838525",
   "metadata": {},
   "outputs": [
    {
     "data": {
      "text/plain": [
       "'Pyt'"
      ]
     },
     "execution_count": 18,
     "metadata": {},
     "output_type": "execute_result"
    }
   ],
   "source": [
    "# slicing in this ways is exclusive by index\n",
    "s[:3]"
   ]
  },
  {
   "cell_type": "code",
   "execution_count": 19,
   "id": "53365095-b126-4278-86ea-72a0c0fc6562",
   "metadata": {},
   "outputs": [
    {
     "data": {
      "text/plain": [
       "'Py'"
      ]
     },
     "execution_count": 19,
     "metadata": {},
     "output_type": "execute_result"
    }
   ],
   "source": [
    "s[:2]"
   ]
  },
  {
   "cell_type": "code",
   "execution_count": 20,
   "id": "85403165-ea0c-457a-89ad-84d413ef43a0",
   "metadata": {},
   "outputs": [
    {
     "data": {
      "text/plain": [
       "'thon'"
      ]
     },
     "execution_count": 20,
     "metadata": {},
     "output_type": "execute_result"
    }
   ],
   "source": [
    "# here is inclusive by index\n",
    "s[2:]"
   ]
  },
  {
   "cell_type": "code",
   "execution_count": 21,
   "id": "751865db-e107-4c6e-ac48-699bc28f5702",
   "metadata": {},
   "outputs": [
    {
     "name": "stdout",
     "output_type": "stream",
     "text": [
      "12\\34\n"
     ]
    }
   ],
   "source": [
    "# treating backslah \\ characters.\n",
    "s = \"12\\\\34\"\n",
    "print(s)"
   ]
  },
  {
   "cell_type": "code",
   "execution_count": 27,
   "id": "b264a96b-a4ed-43f0-a699-3a950e1655aa",
   "metadata": {},
   "outputs": [],
   "source": [
    "# to write a string literal with backslashe, you need r\" some string\"\n",
    "s = r\"this\\has\\no\\special\\characters\""
   ]
  },
  {
   "cell_type": "code",
   "execution_count": 25,
   "id": "9087c498-0d7e-4c3e-8e32-1b97f09a87f3",
   "metadata": {},
   "outputs": [
    {
     "data": {
      "text/plain": [
       "'this\\\\has\\\\no\\\\special\\\\characters'"
      ]
     },
     "execution_count": 25,
     "metadata": {},
     "output_type": "execute_result"
    }
   ],
   "source": [
    "s"
   ]
  },
  {
   "cell_type": "code",
   "execution_count": 28,
   "id": "cb6119a5-cbc0-40d4-9f87-a5c6f5c82d57",
   "metadata": {},
   "outputs": [
    {
     "name": "stdout",
     "output_type": "stream",
     "text": [
      "this\\has\\no\\special\\characters\n"
     ]
    }
   ],
   "source": [
    "print(s)"
   ]
  },
  {
   "cell_type": "code",
   "execution_count": 29,
   "id": "e0aecc5b-d0c8-4779-92ed-3140d7b6c6a0",
   "metadata": {},
   "outputs": [
    {
     "data": {
      "text/plain": [
       "'this is a longer str'"
      ]
     },
     "execution_count": 29,
     "metadata": {},
     "output_type": "execute_result"
    }
   ],
   "source": [
    "b"
   ]
  },
  {
   "cell_type": "code",
   "execution_count": 32,
   "id": "d7162fda-33b7-4ee0-a016-e71fb98f75c0",
   "metadata": {},
   "outputs": [
    {
     "data": {
      "text/plain": [
       "'this\\\\has\\\\no\\\\special\\\\characters this is a longer str'"
      ]
     },
     "execution_count": 32,
     "metadata": {},
     "output_type": "execute_result"
    }
   ],
   "source": [
    "s + \" \" + b "
   ]
  },
  {
   "cell_type": "code",
   "execution_count": 40,
   "id": "08a66eae-e271-480a-9523-ae13ea2b223f",
   "metadata": {},
   "outputs": [
    {
     "data": {
      "text/plain": [
       "'88.46 Argentine Pesos are worth US$1'"
      ]
     },
     "execution_count": 40,
     "metadata": {},
     "output_type": "execute_result"
    }
   ],
   "source": [
    "# formartting string\n",
    "template = \"{0:.2f} {1:s} are worth US${2:d}\"\n",
    "template.format(88.46, \"Argentine Pesos\", 1)"
   ]
  },
  {
   "cell_type": "code",
   "execution_count": 41,
   "id": "24baba80-e92d-43d5-90c4-6f172f8161af",
   "metadata": {},
   "outputs": [],
   "source": [
    "# better way to format is use f-strings(short for formatted string literals)\n",
    "amount = 10\n",
    "rate = 88.46\n",
    "currency = \"Pesos\""
   ]
  },
  {
   "cell_type": "code",
   "execution_count": 43,
   "id": "5a5b1605-9e27-4882-bf0b-2c2019242ef3",
   "metadata": {},
   "outputs": [],
   "source": [
    "result = f\"{amount} {currency} is worth US${amount / rate}\""
   ]
  },
  {
   "cell_type": "code",
   "execution_count": 44,
   "id": "7872348a-ae84-4525-92fb-f7184e56a39f",
   "metadata": {},
   "outputs": [
    {
     "data": {
      "text/plain": [
       "'10 Pesos is worth US$0.11304544426859599'"
      ]
     },
     "execution_count": 44,
     "metadata": {},
     "output_type": "execute_result"
    }
   ],
   "source": [
    "result"
   ]
  },
  {
   "cell_type": "code",
   "execution_count": 45,
   "id": "84ae2e2b-5729-4f9b-86b0-4413742a0e92",
   "metadata": {},
   "outputs": [],
   "source": [
    "result = f\"{amount} {currency} is worth US${amount / rate:.2f}\""
   ]
  },
  {
   "cell_type": "code",
   "execution_count": 46,
   "id": "e6b5b44b-bd5a-4a5e-ae9f-80b73bf02764",
   "metadata": {},
   "outputs": [
    {
     "data": {
      "text/plain": [
       "'10 Pesos is worth US$0.11'"
      ]
     },
     "execution_count": 46,
     "metadata": {},
     "output_type": "execute_result"
    }
   ],
   "source": [
    "result"
   ]
  },
  {
   "cell_type": "code",
   "execution_count": null,
   "id": "fdda78a4-a62d-470d-b2b9-aecf5bc17975",
   "metadata": {},
   "outputs": [],
   "source": []
  }
 ],
 "metadata": {
  "kernelspec": {
   "display_name": "Python 3 (ipykernel)",
   "language": "python",
   "name": "python3"
  },
  "language_info": {
   "codemirror_mode": {
    "name": "ipython",
    "version": 3
   },
   "file_extension": ".py",
   "mimetype": "text/x-python",
   "name": "python",
   "nbconvert_exporter": "python",
   "pygments_lexer": "ipython3",
   "version": "3.12.8"
  }
 },
 "nbformat": 4,
 "nbformat_minor": 5
}
