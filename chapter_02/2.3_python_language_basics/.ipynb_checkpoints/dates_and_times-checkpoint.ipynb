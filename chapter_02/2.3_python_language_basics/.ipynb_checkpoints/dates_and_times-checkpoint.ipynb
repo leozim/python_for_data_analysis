{
 "cells": [
  {
   "cell_type": "code",
   "execution_count": 1,
   "id": "a03fe58d-7961-4441-9765-aec725299522",
   "metadata": {},
   "outputs": [],
   "source": [
    "from datetime import datetime, date, time"
   ]
  },
  {
   "cell_type": "code",
   "execution_count": 3,
   "id": "4c516e35-2037-4ce0-9186-82e8ebfd56df",
   "metadata": {},
   "outputs": [],
   "source": [
    "dt = datetime(2025, 3, 7, 16, 36, 40)"
   ]
  },
  {
   "cell_type": "code",
   "execution_count": 4,
   "id": "627e919c-feea-463c-b852-3684f733e9c9",
   "metadata": {},
   "outputs": [
    {
     "data": {
      "text/plain": [
       "7"
      ]
     },
     "execution_count": 4,
     "metadata": {},
     "output_type": "execute_result"
    }
   ],
   "source": [
    "dt.day"
   ]
  },
  {
   "cell_type": "code",
   "execution_count": 5,
   "id": "c4c5b379-083e-42fd-8246-4798bdc9b35c",
   "metadata": {},
   "outputs": [
    {
     "data": {
      "text/plain": [
       "36"
      ]
     },
     "execution_count": 5,
     "metadata": {},
     "output_type": "execute_result"
    }
   ],
   "source": [
    "dt.minute"
   ]
  },
  {
   "cell_type": "code",
   "execution_count": 6,
   "id": "41cc5648-587a-498e-bebb-29ba53d02af4",
   "metadata": {},
   "outputs": [
    {
     "data": {
      "text/plain": [
       "40"
      ]
     },
     "execution_count": 6,
     "metadata": {},
     "output_type": "execute_result"
    }
   ],
   "source": [
    "dt.second"
   ]
  },
  {
   "cell_type": "code",
   "execution_count": 7,
   "id": "3cf47574-eab9-49c3-9282-04f5c8456bc9",
   "metadata": {},
   "outputs": [
    {
     "data": {
      "text/plain": [
       "2025"
      ]
     },
     "execution_count": 7,
     "metadata": {},
     "output_type": "execute_result"
    }
   ],
   "source": [
    "dt.year"
   ]
  },
  {
   "cell_type": "code",
   "execution_count": 8,
   "id": "0f071327-13ef-4963-a7d5-4c4fdff741a8",
   "metadata": {},
   "outputs": [
    {
     "data": {
      "text/plain": [
       "3"
      ]
     },
     "execution_count": 8,
     "metadata": {},
     "output_type": "execute_result"
    }
   ],
   "source": [
    "dt.month"
   ]
  },
  {
   "cell_type": "code",
   "execution_count": 9,
   "id": "3c1f6c41-8bb9-42ab-9f1e-9bc964d3609e",
   "metadata": {},
   "outputs": [
    {
     "data": {
      "text/plain": [
       "datetime.date(2025, 3, 7)"
      ]
     },
     "execution_count": 9,
     "metadata": {},
     "output_type": "execute_result"
    }
   ],
   "source": [
    "dt.date()"
   ]
  },
  {
   "cell_type": "code",
   "execution_count": 10,
   "id": "97b985ad-b49d-4b06-bf23-69004f6bc7b4",
   "metadata": {},
   "outputs": [
    {
     "data": {
      "text/plain": [
       "datetime.time(16, 36, 40)"
      ]
     },
     "execution_count": 10,
     "metadata": {},
     "output_type": "execute_result"
    }
   ],
   "source": [
    "dt.time()"
   ]
  },
  {
   "cell_type": "code",
   "execution_count": 11,
   "id": "c9f68fd2-8ec6-4b97-ab77-a6a70c839df0",
   "metadata": {},
   "outputs": [
    {
     "data": {
      "text/plain": [
       "'2025-03-07 16:36'"
      ]
     },
     "execution_count": 11,
     "metadata": {},
     "output_type": "execute_result"
    }
   ],
   "source": [
    "dt.strftime(\"%Y-%m-%d %H:%M\")"
   ]
  },
  {
   "cell_type": "code",
   "execution_count": 14,
   "id": "96df3134-0fa6-4eb8-8b75-10b51165f583",
   "metadata": {},
   "outputs": [
    {
     "data": {
      "text/plain": [
       "datetime.datetime(2024, 10, 22, 13, 30)"
      ]
     },
     "execution_count": 14,
     "metadata": {},
     "output_type": "execute_result"
    }
   ],
   "source": [
    "datetime.strptime(\"202410221330\", \"%Y%m%d%H%M\")"
   ]
  },
  {
   "cell_type": "code",
   "execution_count": 15,
   "id": "73a7bcd4-fef4-4012-9c02-084c616313ac",
   "metadata": {},
   "outputs": [],
   "source": [
    "dt_hour = dt.replace(minute=0, second=0)"
   ]
  },
  {
   "cell_type": "code",
   "execution_count": 16,
   "id": "6d278017-d6c1-456b-ab9a-f5e488ae6da6",
   "metadata": {},
   "outputs": [
    {
     "data": {
      "text/plain": [
       "datetime.datetime(2025, 3, 7, 16, 0)"
      ]
     },
     "execution_count": 16,
     "metadata": {},
     "output_type": "execute_result"
    }
   ],
   "source": [
    "dt_hour"
   ]
  },
  {
   "cell_type": "code",
   "execution_count": 17,
   "id": "52e2d555-2add-46fd-b8c0-54b0ec7fd24d",
   "metadata": {},
   "outputs": [
    {
     "data": {
      "text/plain": [
       "datetime.datetime(2025, 3, 7, 16, 36, 40)"
      ]
     },
     "execution_count": 17,
     "metadata": {},
     "output_type": "execute_result"
    }
   ],
   "source": [
    "# Since datetime.datetime is an immutable type, methods like these always produce new objects. \n",
    "# So dt_hour is not a reference for dt. See that dt remains the same\n",
    "dt"
   ]
  },
  {
   "cell_type": "code",
   "execution_count": 18,
   "id": "a4f9fb68-8144-4a37-b248-b051886892f1",
   "metadata": {},
   "outputs": [],
   "source": [
    "# The difference of two datetime objects produces a datetime.timedelta type:\n",
    "dt2 = datetime(2024, 12, 31, 23, 59)"
   ]
  },
  {
   "cell_type": "code",
   "execution_count": 19,
   "id": "bf2b2305-003f-4d0b-9a27-081e0673765e",
   "metadata": {},
   "outputs": [],
   "source": [
    "delta = dt - dt2"
   ]
  },
  {
   "cell_type": "code",
   "execution_count": 20,
   "id": "67ea080f-e296-4f5f-9066-c97571ffe28b",
   "metadata": {},
   "outputs": [
    {
     "data": {
      "text/plain": [
       "datetime.timedelta(days=65, seconds=59860)"
      ]
     },
     "execution_count": 20,
     "metadata": {},
     "output_type": "execute_result"
    }
   ],
   "source": [
    "delta"
   ]
  },
  {
   "cell_type": "code",
   "execution_count": 21,
   "id": "4ad50b18-ab83-4489-9f36-7d2502bc1c79",
   "metadata": {},
   "outputs": [
    {
     "data": {
      "text/plain": [
       "997"
      ]
     },
     "execution_count": 21,
     "metadata": {},
     "output_type": "execute_result"
    }
   ],
   "source": [
    "59860//60"
   ]
  },
  {
   "cell_type": "code",
   "execution_count": 24,
   "id": "451abd7d-989f-45b0-9dc0-02eec02966b7",
   "metadata": {},
   "outputs": [
    {
     "data": {
      "text/plain": [
       "16"
      ]
     },
     "execution_count": 24,
     "metadata": {},
     "output_type": "execute_result"
    }
   ],
   "source": [
    "997//60"
   ]
  },
  {
   "cell_type": "code",
   "execution_count": 25,
   "id": "0a56fc1c-df88-4742-b829-f1bb7b6e46e7",
   "metadata": {},
   "outputs": [
    {
     "data": {
      "text/plain": [
       "datetime.timedelta"
      ]
     },
     "execution_count": 25,
     "metadata": {},
     "output_type": "execute_result"
    }
   ],
   "source": [
    "type(delta)"
   ]
  },
  {
   "cell_type": "code",
   "execution_count": 26,
   "id": "8d4cba20-0805-4003-8aa0-0cf55cbdf697",
   "metadata": {},
   "outputs": [
    {
     "data": {
      "text/plain": [
       "datetime.datetime(2025, 3, 7, 16, 36, 40)"
      ]
     },
     "execution_count": 26,
     "metadata": {},
     "output_type": "execute_result"
    }
   ],
   "source": [
    "# Adding a timedelta to a datetime produces a new shifted datetime:\n",
    "dt"
   ]
  },
  {
   "cell_type": "code",
   "execution_count": 27,
   "id": "21d6fe53-7e15-403d-b7fb-3b37c4c1a1e2",
   "metadata": {},
   "outputs": [
    {
     "data": {
      "text/plain": [
       "datetime.datetime(2025, 5, 12, 9, 14, 20)"
      ]
     },
     "execution_count": 27,
     "metadata": {},
     "output_type": "execute_result"
    }
   ],
   "source": [
    "dt + delta"
   ]
  },
  {
   "cell_type": "code",
   "execution_count": null,
   "id": "1650bb35-7002-494c-8ecd-7de47e2b5241",
   "metadata": {},
   "outputs": [],
   "source": []
  }
 ],
 "metadata": {
  "kernelspec": {
   "display_name": "Python 3 (ipykernel)",
   "language": "python",
   "name": "python3"
  },
  "language_info": {
   "codemirror_mode": {
    "name": "ipython",
    "version": 3
   },
   "file_extension": ".py",
   "mimetype": "text/x-python",
   "name": "python",
   "nbconvert_exporter": "python",
   "pygments_lexer": "ipython3",
   "version": "3.12.8"
  }
 },
 "nbformat": 4,
 "nbformat_minor": 5
}
