{
 "cells": [
  {
   "cell_type": "code",
   "execution_count": 1,
   "id": "718efbb4-2cdb-4d7a-938b-f5c6e0bbaa4b",
   "metadata": {},
   "outputs": [],
   "source": [
    "# The str, bool int and float types are also functions that can be used to cast values to those types:\n",
    "s = \"3.14159\""
   ]
  },
  {
   "cell_type": "code",
   "execution_count": 2,
   "id": "c499706c-eae5-4f20-b819-206f34382877",
   "metadata": {},
   "outputs": [],
   "source": [
    "fval = float(s)"
   ]
  },
  {
   "cell_type": "code",
   "execution_count": 3,
   "id": "3bf3c597-e78e-4a13-8983-2b688dc5c129",
   "metadata": {},
   "outputs": [
    {
     "data": {
      "text/plain": [
       "float"
      ]
     },
     "execution_count": 3,
     "metadata": {},
     "output_type": "execute_result"
    }
   ],
   "source": [
    "type(fval)"
   ]
  },
  {
   "cell_type": "code",
   "execution_count": 4,
   "id": "c80d528e-45f5-494c-addb-0b31d2765ba9",
   "metadata": {},
   "outputs": [
    {
     "data": {
      "text/plain": [
       "\u001b[31mType:\u001b[39m        float\n",
       "\u001b[31mString form:\u001b[39m 3.14159\n",
       "\u001b[31mDocstring:\u001b[39m   Convert a string or number to a floating-point number, if possible."
      ]
     },
     "metadata": {},
     "output_type": "display_data"
    }
   ],
   "source": [
    "fval?"
   ]
  },
  {
   "cell_type": "code",
   "execution_count": 5,
   "id": "07a6842d-f80b-4ce2-b33a-63df4307d463",
   "metadata": {},
   "outputs": [
    {
     "data": {
      "text/plain": [
       "3"
      ]
     },
     "execution_count": 5,
     "metadata": {},
     "output_type": "execute_result"
    }
   ],
   "source": [
    "int(fval)"
   ]
  },
  {
   "cell_type": "code",
   "execution_count": 8,
   "id": "b7b31aa2-4103-4c6c-8a01-d3373e86f8cf",
   "metadata": {},
   "outputs": [
    {
     "data": {
      "text/plain": [
       "True"
      ]
     },
     "execution_count": 8,
     "metadata": {},
     "output_type": "execute_result"
    }
   ],
   "source": [
    "# Note that nonzero values when cast to bool become True\n",
    "bool(fval)"
   ]
  },
  {
   "cell_type": "code",
   "execution_count": 9,
   "id": "9cc280c9-d366-4604-980e-e37b60eccc6e",
   "metadata": {},
   "outputs": [
    {
     "data": {
      "text/plain": [
       "False"
      ]
     },
     "execution_count": 9,
     "metadata": {},
     "output_type": "execute_result"
    }
   ],
   "source": [
    "bool(0)"
   ]
  },
  {
   "cell_type": "code",
   "execution_count": 10,
   "id": "a6ecc6e9-cbeb-4256-a5ea-432ebfe8051a",
   "metadata": {},
   "outputs": [
    {
     "data": {
      "text/plain": [
       "True"
      ]
     },
     "execution_count": 10,
     "metadata": {},
     "output_type": "execute_result"
    }
   ],
   "source": [
    "# None is the Python null type and is also a commom default value for cuntion arguments\n",
    "a = None\n",
    "a is None"
   ]
  },
  {
   "cell_type": "code",
   "execution_count": 11,
   "id": "7d2adb9f-a1a4-4faa-82bc-b7427a85c7d6",
   "metadata": {},
   "outputs": [
    {
     "data": {
      "text/plain": [
       "True"
      ]
     },
     "execution_count": 11,
     "metadata": {},
     "output_type": "execute_result"
    }
   ],
   "source": [
    "b = 5\n",
    "b is not None"
   ]
  },
  {
   "cell_type": "code",
   "execution_count": 13,
   "id": "5b7c1ffd-e9bc-480e-a6bf-ce74f9f8fbc2",
   "metadata": {},
   "outputs": [],
   "source": [
    "def add_and_maybe_multiply(a, b, c=None):\n",
    "    result = a + b\n",
    "    if c is not None:\n",
    "        result *= c\n",
    "    return result"
   ]
  },
  {
   "cell_type": "code",
   "execution_count": 14,
   "id": "a941e0c1-6a80-40c7-b097-3f40377c46f8",
   "metadata": {},
   "outputs": [
    {
     "data": {
      "text/plain": [
       "6"
      ]
     },
     "execution_count": 14,
     "metadata": {},
     "output_type": "execute_result"
    }
   ],
   "source": [
    "add_and_maybe_multiply(2, 4)"
   ]
  },
  {
   "cell_type": "code",
   "execution_count": 15,
   "id": "21a6f431-c6e0-4e6a-9058-b417a94873a0",
   "metadata": {},
   "outputs": [
    {
     "data": {
      "text/plain": [
       "0"
      ]
     },
     "execution_count": 15,
     "metadata": {},
     "output_type": "execute_result"
    }
   ],
   "source": [
    "add_and_maybe_multiply(2, 4, 0)"
   ]
  },
  {
   "cell_type": "code",
   "execution_count": null,
   "id": "e9161d93-5754-4b9b-b9dc-4c238eb3b206",
   "metadata": {},
   "outputs": [],
   "source": []
  }
 ],
 "metadata": {
  "kernelspec": {
   "display_name": "Python 3 (ipykernel)",
   "language": "python",
   "name": "python3"
  },
  "language_info": {
   "codemirror_mode": {
    "name": "ipython",
    "version": 3
   },
   "file_extension": ".py",
   "mimetype": "text/x-python",
   "name": "python",
   "nbconvert_exporter": "python",
   "pygments_lexer": "ipython3",
   "version": "3.12.8"
  }
 },
 "nbformat": 4,
 "nbformat_minor": 5
}
