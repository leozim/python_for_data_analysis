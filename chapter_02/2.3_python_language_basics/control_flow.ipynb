{
 "cells": [
  {
   "cell_type": "code",
   "execution_count": 2,
   "id": "cbc25d62-ef49-46f9-8c8a-80466d0c7f46",
   "metadata": {},
   "outputs": [
    {
     "name": "stdout",
     "output_type": "stream",
     "text": [
      "It's negative. -5\n"
     ]
    }
   ],
   "source": [
    "x = -5\n",
    "if x < 0:\n",
    "    print(f\"It's negative. {x}\")"
   ]
  },
  {
   "cell_type": "code",
   "execution_count": 9,
   "id": "eae284b8-79b4-495f-a3e8-b1d7a7c0ad95",
   "metadata": {},
   "outputs": [
    {
     "name": "stdout",
     "output_type": "stream",
     "text": [
      "It's negative. -3\n"
     ]
    }
   ],
   "source": [
    "import random as rand\n",
    "x = rand.randint(-5, 10)\n",
    "\n",
    "if x < 0:\n",
    "    print(f\"It's negative. {x}\")\n",
    "elif x == 0:\n",
    "    print(f\"Equal to {x}.\")\n",
    "elif 0 < x < 5:\n",
    "    print(f\"Positive but smaller than 5. {x}\")\n",
    "else:\n",
    "    print(f\"Positive and larger than or equal to 5. {x}\")"
   ]
  },
  {
   "cell_type": "code",
   "execution_count": 10,
   "id": "b5e48008-af6b-4542-b74b-8ef89fb2126b",
   "metadata": {},
   "outputs": [],
   "source": [
    "a = 5; b = 7"
   ]
  },
  {
   "cell_type": "code",
   "execution_count": 11,
   "id": "89282022-5988-414f-8aff-be14b5179fff",
   "metadata": {},
   "outputs": [],
   "source": [
    "c = 8; d = 4"
   ]
  },
  {
   "cell_type": "code",
   "execution_count": 22,
   "id": "c00406c2-39e6-4ece-b553-78a50bdcc58e",
   "metadata": {},
   "outputs": [
    {
     "name": "stdout",
     "output_type": "stream",
     "text": [
      "Made it\n"
     ]
    }
   ],
   "source": [
    "if a < b or c > d:\n",
    "    print(\"Made it\")"
   ]
  },
  {
   "cell_type": "code",
   "execution_count": 23,
   "id": "728f6ca9-3bea-45ce-8669-8286a6a1384e",
   "metadata": {},
   "outputs": [
    {
     "data": {
      "text/plain": [
       "True"
      ]
     },
     "execution_count": 23,
     "metadata": {},
     "output_type": "execute_result"
    }
   ],
   "source": [
    "# It is also possible to chain comparisons:\n",
    "4 > 3 > 2 > 1"
   ]
  },
  {
   "cell_type": "code",
   "execution_count": 26,
   "id": "8abe0c5e-6d32-4946-998a-9a804d2860d6",
   "metadata": {},
   "outputs": [
    {
     "name": "stdout",
     "output_type": "stream",
     "text": [
      "1 3 5 8 11 "
     ]
    }
   ],
   "source": [
    "# for loops are for iterating over a collection(like a list or tuple) or an iterater. see the sintax below\n",
    "collection = [1, 3, 5, 8, 11]\n",
    "for value in collection:\n",
    "    print(value, end=\" \")"
   ]
  },
  {
   "cell_type": "code",
   "execution_count": 33,
   "id": "c0d68cb1-3a99-4568-b703-efd16c77caa9",
   "metadata": {},
   "outputs": [
    {
     "name": "stdout",
     "output_type": "stream",
     "text": [
      "12\n",
      "3\n"
     ]
    }
   ],
   "source": [
    "# using continue to skipping the remainder of the block\n",
    "sequence = [1, 2, None, 4, None, 5, 0]\n",
    "total = 0\n",
    "total_skipped_interations = 0\n",
    "for value in sequence:\n",
    "    if value is None or value == 0:\n",
    "        total_skipped_interations += 1\n",
    "        continue\n",
    "    total += value\n",
    "print(total)\n",
    "print(total_skipped_interations)"
   ]
  },
  {
   "cell_type": "code",
   "execution_count": null,
   "id": "6fc4c595-1f2d-44b7-9678-7ca5a19bcce9",
   "metadata": {},
   "outputs": [],
   "source": []
  }
 ],
 "metadata": {
  "kernelspec": {
   "display_name": "Python 3 (ipykernel)",
   "language": "python",
   "name": "python3"
  },
  "language_info": {
   "codemirror_mode": {
    "name": "ipython",
    "version": 3
   },
   "file_extension": ".py",
   "mimetype": "text/x-python",
   "name": "python",
   "nbconvert_exporter": "python",
   "pygments_lexer": "ipython3",
   "version": "3.12.8"
  }
 },
 "nbformat": 4,
 "nbformat_minor": 5
}
