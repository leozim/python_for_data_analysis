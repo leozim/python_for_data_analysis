{
 "cells": [
  {
   "cell_type": "code",
   "execution_count": 1,
   "id": "09dc61b5-9ecc-4af1-84b1-84e0d5145d6b",
   "metadata": {},
   "outputs": [],
   "source": [
    "a = [1, 2, 3]"
   ]
  },
  {
   "cell_type": "code",
   "execution_count": 2,
   "id": "e1a5fb22-6e35-4beb-9c35-ba2e1ecc12fc",
   "metadata": {},
   "outputs": [],
   "source": [
    "b = a # as everything is a object, thus it is a reference. so b = a, attach a referece to [1, 2, 3] not a copy as C based languages"
   ]
  },
  {
   "cell_type": "code",
   "execution_count": 3,
   "id": "c9c01cf2-692b-4b89-b28e-dbe4fa2ac295",
   "metadata": {},
   "outputs": [
    {
     "data": {
      "text/plain": [
       "[1, 2, 3]"
      ]
     },
     "execution_count": 3,
     "metadata": {},
     "output_type": "execute_result"
    }
   ],
   "source": [
    "b"
   ]
  },
  {
   "cell_type": "code",
   "execution_count": 4,
   "id": "fc22aec5-0332-49a6-a239-84e79ce3c572",
   "metadata": {},
   "outputs": [],
   "source": [
    "b.append(5)"
   ]
  },
  {
   "cell_type": "code",
   "execution_count": 5,
   "id": "147a4f85-b612-4b8d-a8b9-5c0d0fe70754",
   "metadata": {},
   "outputs": [
    {
     "data": {
      "text/plain": [
       "[1, 2, 3, 5]"
      ]
     },
     "execution_count": 5,
     "metadata": {},
     "output_type": "execute_result"
    }
   ],
   "source": [
    "b"
   ]
  },
  {
   "cell_type": "code",
   "execution_count": 6,
   "id": "f4cd6493-2722-43df-965b-a4bac70dc42d",
   "metadata": {},
   "outputs": [],
   "source": [
    "a.append(10)"
   ]
  },
  {
   "cell_type": "code",
   "execution_count": 7,
   "id": "171a0c6e-a65e-4725-84db-f47adebd6a65",
   "metadata": {},
   "outputs": [
    {
     "data": {
      "text/plain": [
       "[1, 2, 3, 5, 10]"
      ]
     },
     "execution_count": 7,
     "metadata": {},
     "output_type": "execute_result"
    }
   ],
   "source": [
    "b"
   ]
  },
  {
   "cell_type": "code",
   "execution_count": 8,
   "id": "20cbd00f-a4ac-4285-929a-660bdad145b2",
   "metadata": {},
   "outputs": [
    {
     "data": {
      "text/plain": [
       "\u001b[31mType:\u001b[39m        list\n",
       "\u001b[31mString form:\u001b[39m [1, 2, 3, 5, 10]\n",
       "\u001b[31mLength:\u001b[39m      5\n",
       "\u001b[31mDocstring:\u001b[39m  \n",
       "Built-in mutable sequence.\n",
       "\n",
       "If no argument is given, the constructor creates a new empty list.\n",
       "The argument must be an iterable if specified."
      ]
     },
     "metadata": {},
     "output_type": "display_data"
    }
   ],
   "source": [
    "b?"
   ]
  },
  {
   "cell_type": "code",
   "execution_count": 9,
   "id": "048f3c6d-e616-494b-bfab-23161de6b331",
   "metadata": {},
   "outputs": [
    {
     "data": {
      "text/plain": [
       "\u001b[31mType:\u001b[39m        list\n",
       "\u001b[31mString form:\u001b[39m [1, 2, 3, 5, 10]\n",
       "\u001b[31mLength:\u001b[39m      5\n",
       "\u001b[31mDocstring:\u001b[39m  \n",
       "Built-in mutable sequence.\n",
       "\n",
       "If no argument is given, the constructor creates a new empty list.\n",
       "The argument must be an iterable if specified."
      ]
     },
     "metadata": {},
     "output_type": "display_data"
    }
   ],
   "source": [
    "a?"
   ]
  },
  {
   "cell_type": "code",
   "execution_count": 10,
   "id": "166feb1f-6020-47d1-9d6e-62c70cc0bfc8",
   "metadata": {},
   "outputs": [],
   "source": [
    "#implicity conversion\n",
    "a = 4.5\n",
    "b = 2"
   ]
  },
  {
   "cell_type": "code",
   "execution_count": 11,
   "id": "98d7e076-cc62-4b46-90ff-9d319db6d4fd",
   "metadata": {},
   "outputs": [
    {
     "name": "stdout",
     "output_type": "stream",
     "text": [
      "a is <class 'float'>, b is <class 'int'>\n"
     ]
    }
   ],
   "source": [
    "print(f\"a is {type(a)}, b is {type(b)}\")"
   ]
  },
  {
   "cell_type": "code",
   "execution_count": 12,
   "id": "93a82e9a-78e1-478a-83bb-20bfa21422a0",
   "metadata": {},
   "outputs": [
    {
     "data": {
      "text/plain": [
       "2.25"
      ]
     },
     "execution_count": 12,
     "metadata": {},
     "output_type": "execute_result"
    }
   ],
   "source": [
    "a / b # b is implicitly converted to a float for the division operation"
   ]
  },
  {
   "cell_type": "code",
   "execution_count": 13,
   "id": "ab073f2f-c9b0-404f-b097-bdc11669ad3e",
   "metadata": {},
   "outputs": [
    {
     "data": {
      "text/plain": [
       "False"
      ]
     },
     "execution_count": 13,
     "metadata": {},
     "output_type": "execute_result"
    }
   ],
   "source": [
    "isinstance(a, int)"
   ]
  },
  {
   "cell_type": "code",
   "execution_count": 14,
   "id": "5bf78c08-7022-4542-b11d-694eb4b5fd7c",
   "metadata": {},
   "outputs": [
    {
     "data": {
      "text/plain": [
       "True"
      ]
     },
     "execution_count": 14,
     "metadata": {},
     "output_type": "execute_result"
    }
   ],
   "source": [
    "isinstance(b, int)"
   ]
  },
  {
   "cell_type": "code",
   "execution_count": 16,
   "id": "64e610a9-9daa-4a1f-b508-f7a4c98437aa",
   "metadata": {},
   "outputs": [
    {
     "data": {
      "text/plain": [
       "True"
      ]
     },
     "execution_count": 16,
     "metadata": {},
     "output_type": "execute_result"
    }
   ],
   "source": [
    "# accept a tuple of types\n",
    "isinstance(a, (int, float))"
   ]
  },
  {
   "cell_type": "code",
   "execution_count": 18,
   "id": "7b4a96d4-6fcc-4791-a654-1512dcaf4585",
   "metadata": {},
   "outputs": [
    {
     "data": {
      "text/plain": [
       "True"
      ]
     },
     "execution_count": 18,
     "metadata": {},
     "output_type": "execute_result"
    }
   ],
   "source": [
    "isinstance(b, (int, float))"
   ]
  },
  {
   "cell_type": "code",
   "execution_count": 29,
   "id": "94b5bba3-9091-4ac2-97c8-c71fcbbda1c3",
   "metadata": {},
   "outputs": [],
   "source": [
    "foo = \"Foo has space beteween, split by space\""
   ]
  },
  {
   "cell_type": "code",
   "execution_count": 30,
   "id": "7d050ba3-f7e6-450c-a335-0f7354203f2f",
   "metadata": {},
   "outputs": [
    {
     "data": {
      "text/plain": [
       "<function str.split(sep=None, maxsplit=-1)>"
      ]
     },
     "execution_count": 30,
     "metadata": {},
     "output_type": "execute_result"
    }
   ],
   "source": [
    "# attibutes and methods can also be accessed by name via the \"getattr\" function\n",
    "getattr(foo, \"split\")"
   ]
  },
  {
   "cell_type": "code",
   "execution_count": 40,
   "id": "8240cc26-6523-480e-a5ec-b4312fde0e50",
   "metadata": {},
   "outputs": [],
   "source": [
    "method = getattr(foo, \"split\")"
   ]
  },
  {
   "cell_type": "code",
   "execution_count": 45,
   "id": "d61f166a-7cf9-4d63-b0c9-ef49dba1766e",
   "metadata": {},
   "outputs": [
    {
     "data": {
      "text/plain": [
       "['Foo', 'has', 'space', 'beteween,', 'split', 'by', 'space']"
      ]
     },
     "execution_count": 45,
     "metadata": {},
     "output_type": "execute_result"
    }
   ],
   "source": [
    "method(\" \")"
   ]
  },
  {
   "cell_type": "code",
   "execution_count": 47,
   "id": "82b39f7f-6920-4404-b15f-a84a5d9bffa3",
   "metadata": {},
   "outputs": [],
   "source": [
    "def isiterable(obj):\n",
    "    try:\n",
    "        iter(obj)\n",
    "        return True\n",
    "    except TypeError: # not iterable\n",
    "        return False"
   ]
  },
  {
   "cell_type": "code",
   "execution_count": 53,
   "id": "fed8e794-c4f3-4df4-886e-25f84a26832c",
   "metadata": {},
   "outputs": [
    {
     "data": {
      "text/plain": [
       "True"
      ]
     },
     "execution_count": 53,
     "metadata": {},
     "output_type": "execute_result"
    }
   ],
   "source": [
    "isiterable(\"a string\")"
   ]
  },
  {
   "cell_type": "code",
   "execution_count": 54,
   "id": "7882fd1b-008a-4dc4-a26c-1d582a205408",
   "metadata": {},
   "outputs": [
    {
     "data": {
      "text/plain": [
       "False"
      ]
     },
     "execution_count": 54,
     "metadata": {},
     "output_type": "execute_result"
    }
   ],
   "source": [
    "isiterable(5)"
   ]
  },
  {
   "cell_type": "code",
   "execution_count": null,
   "id": "63890060-57b6-4309-bc7f-d2df173eac2b",
   "metadata": {},
   "outputs": [],
   "source": []
  }
 ],
 "metadata": {
  "kernelspec": {
   "display_name": "Python 3 (ipykernel)",
   "language": "python",
   "name": "python3"
  },
  "language_info": {
   "codemirror_mode": {
    "name": "ipython",
    "version": 3
   },
   "file_extension": ".py",
   "mimetype": "text/x-python",
   "name": "python",
   "nbconvert_exporter": "python",
   "pygments_lexer": "ipython3",
   "version": "3.12.8"
  }
 },
 "nbformat": 4,
 "nbformat_minor": 5
}
