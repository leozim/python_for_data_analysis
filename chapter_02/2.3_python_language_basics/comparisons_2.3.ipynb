{
 "cells": [
  {
   "cell_type": "code",
   "execution_count": 1,
   "id": "d3c4bc24-2c74-4506-8368-2ad1a5ea6815",
   "metadata": {},
   "outputs": [],
   "source": [
    "a = [1, 2, 3]"
   ]
  },
  {
   "cell_type": "code",
   "execution_count": 2,
   "id": "8254e616-55c8-4597-ba83-ee5f6f797541",
   "metadata": {},
   "outputs": [],
   "source": [
    "b = a"
   ]
  },
  {
   "cell_type": "code",
   "execution_count": 4,
   "id": "5a8e82d2-ec43-4d79-9bb4-17ad0bf1df6f",
   "metadata": {},
   "outputs": [
    {
     "data": {
      "text/plain": [
       "True"
      ]
     },
     "execution_count": 4,
     "metadata": {},
     "output_type": "execute_result"
    }
   ],
   "source": [
    "# to check if two differents variable refers to the same object or not use \"is\" or \"is not\"\n",
    "a is b"
   ]
  },
  {
   "cell_type": "code",
   "execution_count": 9,
   "id": "e50cf661-9f82-472d-b8c0-592c9f04a46d",
   "metadata": {},
   "outputs": [],
   "source": [
    "# make a copy\n",
    "c = list(a)"
   ]
  },
  {
   "cell_type": "code",
   "execution_count": 10,
   "id": "54f1aea5-0498-41a9-a0cc-c5a7b431baa7",
   "metadata": {},
   "outputs": [
    {
     "data": {
      "text/plain": [
       "True"
      ]
     },
     "execution_count": 10,
     "metadata": {},
     "output_type": "execute_result"
    }
   ],
   "source": [
    "b is not c"
   ]
  },
  {
   "cell_type": "code",
   "execution_count": 11,
   "id": "2e2749d5-3eb3-4b6e-8e74-13f045a28e90",
   "metadata": {},
   "outputs": [
    {
     "data": {
      "text/plain": [
       "[1, 2, 3]"
      ]
     },
     "execution_count": 11,
     "metadata": {},
     "output_type": "execute_result"
    }
   ],
   "source": [
    "c"
   ]
  },
  {
   "cell_type": "code",
   "execution_count": 12,
   "id": "0fe0dcd3-5dba-4cf6-be3c-68baf948b961",
   "metadata": {},
   "outputs": [
    {
     "data": {
      "text/plain": [
       "True"
      ]
     },
     "execution_count": 12,
     "metadata": {},
     "output_type": "execute_result"
    }
   ],
   "source": [
    "# compare with \"is\" is not the same as the \"==\" operator, so we gave\n",
    "a == c"
   ]
  },
  {
   "cell_type": "code",
   "execution_count": 13,
   "id": "07fdd291-e9d0-490f-b14e-3ba704bfaf70",
   "metadata": {},
   "outputs": [],
   "source": [
    "# this happens because \"==\" compare about the value or type meanwhile \"is or is not\" compare the refer(object)"
   ]
  },
  {
   "cell_type": "code",
   "execution_count": 14,
   "id": "1adba3e1-ca63-4017-b6b3-60945a9b7ddc",
   "metadata": {},
   "outputs": [],
   "source": [
    "# a commom use of \"is and is not\" is to check if a variable is \"None\", since the is only one instance of None\n",
    "a = None"
   ]
  },
  {
   "cell_type": "code",
   "execution_count": 15,
   "id": "49ad11f7-da87-4805-bafa-0768209653e8",
   "metadata": {},
   "outputs": [
    {
     "data": {
      "text/plain": [
       "True"
      ]
     },
     "execution_count": 15,
     "metadata": {},
     "output_type": "execute_result"
    }
   ],
   "source": [
    "a is None"
   ]
  },
  {
   "cell_type": "code",
   "execution_count": 16,
   "id": "5db6659e-46cd-452a-89cb-7ad10f563475",
   "metadata": {},
   "outputs": [
    {
     "data": {
      "text/plain": [
       "False"
      ]
     },
     "execution_count": 16,
     "metadata": {},
     "output_type": "execute_result"
    }
   ],
   "source": [
    "a is not None"
   ]
  },
  {
   "cell_type": "code",
   "execution_count": null,
   "id": "2ccc1086-e908-40c1-ac37-64f6800dba8a",
   "metadata": {},
   "outputs": [],
   "source": []
  }
 ],
 "metadata": {
  "kernelspec": {
   "display_name": "Python 3 (ipykernel)",
   "language": "python",
   "name": "python3"
  },
  "language_info": {
   "codemirror_mode": {
    "name": "ipython",
    "version": 3
   },
   "file_extension": ".py",
   "mimetype": "text/x-python",
   "name": "python",
   "nbconvert_exporter": "python",
   "pygments_lexer": "ipython3",
   "version": "3.12.8"
  }
 },
 "nbformat": 4,
 "nbformat_minor": 5
}
