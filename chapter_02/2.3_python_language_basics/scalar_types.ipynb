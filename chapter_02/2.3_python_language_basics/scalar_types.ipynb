{
 "cells": [
  {
   "cell_type": "code",
   "execution_count": 1,
   "id": "59c5785c-d880-402b-bb34-c0ec766b0e9e",
   "metadata": {},
   "outputs": [],
   "source": [
    "# We call data, string, boolean, dates and time, None(null), bytes, float, int"
   ]
  },
  {
   "cell_type": "code",
   "execution_count": 2,
   "id": "01176443-55cd-44b8-9511-15791f8e1fc6",
   "metadata": {},
   "outputs": [],
   "source": [
    "# 1 - Numeric Types"
   ]
  },
  {
   "cell_type": "code",
   "execution_count": 3,
   "id": "94c837fa-e166-4f46-83f9-10c53b901583",
   "metadata": {},
   "outputs": [
    {
     "data": {
      "text/plain": [
       "1.5"
      ]
     },
     "execution_count": 3,
     "metadata": {},
     "output_type": "execute_result"
    }
   ],
   "source": [
    "# Integer division not resulting in a whole number will always yield a floating-point number that differs from C based language \n",
    "3 / 2"
   ]
  },
  {
   "cell_type": "code",
   "execution_count": 5,
   "id": "97cad4be-0061-41f6-8ecd-07d70f9fe81b",
   "metadata": {},
   "outputs": [],
   "source": [
    "# we can express float numbers with scientific notatio\n",
    "fval = 6.78e-5"
   ]
  },
  {
   "cell_type": "code",
   "execution_count": 8,
   "id": "2715f6a0-7413-4e05-bb4f-bca82854921e",
   "metadata": {},
   "outputs": [
    {
     "data": {
      "text/plain": [
       "6.78e-05"
      ]
     },
     "execution_count": 8,
     "metadata": {},
     "output_type": "execute_result"
    }
   ],
   "source": [
    "fval"
   ]
  },
  {
   "cell_type": "code",
   "execution_count": 10,
   "id": "79fc2a3f-a154-4131-b340-7da87b94a172",
   "metadata": {},
   "outputs": [
    {
     "data": {
      "text/plain": [
       "1"
      ]
     },
     "execution_count": 10,
     "metadata": {},
     "output_type": "execute_result"
    }
   ],
   "source": [
    "# to get C-style integer divsion, use the floor division operato //\n",
    "3 // 2"
   ]
  },
  {
   "cell_type": "code",
   "execution_count": null,
   "id": "51270a21-6d1a-49aa-b26a-bc5b234bdf90",
   "metadata": {},
   "outputs": [],
   "source": []
  }
 ],
 "metadata": {
  "kernelspec": {
   "display_name": "Python 3 (ipykernel)",
   "language": "python",
   "name": "python3"
  },
  "language_info": {
   "codemirror_mode": {
    "name": "ipython",
    "version": 3
   },
   "file_extension": ".py",
   "mimetype": "text/x-python",
   "name": "python",
   "nbconvert_exporter": "python",
   "pygments_lexer": "ipython3",
   "version": "3.12.8"
  }
 },
 "nbformat": 4,
 "nbformat_minor": 5
}
