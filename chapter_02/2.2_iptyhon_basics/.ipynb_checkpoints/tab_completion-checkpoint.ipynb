{
 "cells": [
  {
   "cell_type": "code",
   "execution_count": 1,
   "id": "8dc99196-6d0c-4b77-bd0f-878b24b40da1",
   "metadata": {},
   "outputs": [],
   "source": [
    "an_apple = 27"
   ]
  },
  {
   "cell_type": "code",
   "execution_count": 2,
   "id": "e115a4d7-62a9-461a-b1ff-52c7c709f130",
   "metadata": {},
   "outputs": [],
   "source": [
    "an_example = 42"
   ]
  },
  {
   "cell_type": "code",
   "execution_count": 3,
   "id": "fe2d4283-d824-4ce9-970d-030d3ca75660",
   "metadata": {},
   "outputs": [
    {
     "ename": "SyntaxError",
     "evalue": "invalid syntax (2887307719.py, line 1)",
     "output_type": "error",
     "traceback": [
      "  \u001b[36mCell\u001b[39m\u001b[36m \u001b[39m\u001b[32mIn[3]\u001b[39m\u001b[32m, line 1\u001b[39m\n\u001b[31m    \u001b[39m\u001b[31man<Tab>\u001b[39m\n           ^\n\u001b[31mSyntaxError\u001b[39m\u001b[31m:\u001b[39m invalid syntax\n"
     ]
    }
   ],
   "source": [
    "an<Tab>"
   ]
  },
  {
   "cell_type": "code",
   "execution_count": 4,
   "id": "67c7ce00-a348-4b32-b57d-8b1a45911b53",
   "metadata": {},
   "outputs": [],
   "source": [
    "b = [1, 2, 3]"
   ]
  },
  {
   "cell_type": "code",
   "execution_count": 5,
   "id": "5fa167d8-87b7-4d6c-97e9-b4e1b23d9501",
   "metadata": {},
   "outputs": [],
   "source": [
    "import datetime"
   ]
  },
  {
   "cell_type": "code",
   "execution_count": 6,
   "id": "d4510fa9-2632-4819-ba38-9b0b073bb02e",
   "metadata": {},
   "outputs": [],
   "source": [
    "undescore_method = \"default is hidden by Ipthon. to display it, see IPython documentation to change settings \""
   ]
  },
  {
   "cell_type": "code",
   "execution_count": 7,
   "id": "089e5f6c-c37d-4b88-b96b-c095564aa3fd",
   "metadata": {},
   "outputs": [
    {
     "data": {
      "text/plain": [
       "'default is hidden by Ipthon. to display it, see IPython documentation to change settings '"
      ]
     },
     "execution_count": 7,
     "metadata": {},
     "output_type": "execute_result"
    }
   ],
   "source": [
    "undescore_method"
   ]
  },
  {
   "cell_type": "code",
   "execution_count": 8,
   "id": "7d228c89-b89f-4cd6-9f66-9ac1e4d6a9b9",
   "metadata": {},
   "outputs": [],
   "source": [
    "a_file_path_completion = \"../README.md\""
   ]
  },
  {
   "cell_type": "code",
   "execution_count": 9,
   "id": "924c741c-a95a-42a7-81e1-8da34afacef9",
   "metadata": {},
   "outputs": [
    {
     "data": {
      "text/plain": [
       "'../README.md'"
      ]
     },
     "execution_count": 9,
     "metadata": {},
     "output_type": "execute_result"
    }
   ],
   "source": [
    "a_file_path_completion"
   ]
  },
  {
   "cell_type": "code",
   "execution_count": 11,
   "id": "2a11c3f3-040f-4af9-b766-540a636dd78e",
   "metadata": {},
   "outputs": [],
   "source": [
    "def func_with_keywords(abra=1, abbra=2, abbbra=3):\n",
    "    return abra, abbra, abbbra"
   ]
  },
  {
   "cell_type": "code",
   "execution_count": 12,
   "id": "7c6a95d5-79f3-4cbc-b1ef-dee4c86d7f00",
   "metadata": {},
   "outputs": [
    {
     "data": {
      "text/plain": [
       "(10, 15, 20)"
      ]
     },
     "execution_count": 12,
     "metadata": {},
     "output_type": "execute_result"
    }
   ],
   "source": [
    "func_with_keywords(abra=10, abbra=15, abbbra=20)"
   ]
  },
  {
   "cell_type": "code",
   "execution_count": 13,
   "id": "4f4efeeb-5edc-42cc-abd3-e629137f1ff4",
   "metadata": {},
   "outputs": [
    {
     "data": {
      "text/plain": [
       "(1, 2, 3)"
      ]
     },
     "execution_count": 13,
     "metadata": {},
     "output_type": "execute_result"
    }
   ],
   "source": [
    "func_with_keywords()"
   ]
  },
  {
   "cell_type": "code",
   "execution_count": null,
   "id": "36b0f525-d593-4409-bfe0-b8c3f6ab0562",
   "metadata": {},
   "outputs": [],
   "source": []
  }
 ],
 "metadata": {
  "kernelspec": {
   "display_name": "Python 3 (ipykernel)",
   "language": "python",
   "name": "python3"
  },
  "language_info": {
   "codemirror_mode": {
    "name": "ipython",
    "version": 3
   },
   "file_extension": ".py",
   "mimetype": "text/x-python",
   "name": "python",
   "nbconvert_exporter": "python",
   "pygments_lexer": "ipython3",
   "version": "3.12.8"
  }
 },
 "nbformat": 4,
 "nbformat_minor": 5
}
