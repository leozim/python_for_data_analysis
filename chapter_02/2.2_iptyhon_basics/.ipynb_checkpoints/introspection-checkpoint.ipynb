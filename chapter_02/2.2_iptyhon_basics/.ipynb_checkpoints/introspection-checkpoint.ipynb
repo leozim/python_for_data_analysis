{
 "cells": [
  {
   "cell_type": "code",
   "execution_count": 1,
   "id": "8dc99196-6d0c-4b77-bd0f-878b24b40da1",
   "metadata": {},
   "outputs": [],
   "source": [
    "an_apple = 27"
   ]
  },
  {
   "cell_type": "code",
   "execution_count": 2,
   "id": "e115a4d7-62a9-461a-b1ff-52c7c709f130",
   "metadata": {},
   "outputs": [],
   "source": [
    "an_example = 42"
   ]
  },
  {
   "cell_type": "code",
   "execution_count": 3,
   "id": "fe2d4283-d824-4ce9-970d-030d3ca75660",
   "metadata": {},
   "outputs": [
    {
     "ename": "SyntaxError",
     "evalue": "invalid syntax (2887307719.py, line 1)",
     "output_type": "error",
     "traceback": [
      "  \u001b[36mCell\u001b[39m\u001b[36m \u001b[39m\u001b[32mIn[3]\u001b[39m\u001b[32m, line 1\u001b[39m\n\u001b[31m    \u001b[39m\u001b[31man<Tab>\u001b[39m\n           ^\n\u001b[31mSyntaxError\u001b[39m\u001b[31m:\u001b[39m invalid syntax\n"
     ]
    }
   ],
   "source": [
    "an<Tab>"
   ]
  },
  {
   "cell_type": "code",
   "execution_count": 4,
   "id": "67c7ce00-a348-4b32-b57d-8b1a45911b53",
   "metadata": {},
   "outputs": [],
   "source": [
    "b = [1, 2, 3]"
   ]
  },
  {
   "cell_type": "code",
   "execution_count": 5,
   "id": "5fa167d8-87b7-4d6c-97e9-b4e1b23d9501",
   "metadata": {},
   "outputs": [],
   "source": [
    "import datetime"
   ]
  },
  {
   "cell_type": "code",
   "execution_count": 6,
   "id": "d4510fa9-2632-4819-ba38-9b0b073bb02e",
   "metadata": {},
   "outputs": [],
   "source": [
    "undescore_method = \"default is hidden by Ipthon. to display it, see IPython documentation to change settings \""
   ]
  },
  {
   "cell_type": "code",
   "execution_count": 7,
   "id": "089e5f6c-c37d-4b88-b96b-c095564aa3fd",
   "metadata": {},
   "outputs": [
    {
     "data": {
      "text/plain": [
       "'default is hidden by Ipthon. to display it, see IPython documentation to change settings '"
      ]
     },
     "execution_count": 7,
     "metadata": {},
     "output_type": "execute_result"
    }
   ],
   "source": [
    "undescore_method"
   ]
  },
  {
   "cell_type": "code",
   "execution_count": 8,
   "id": "7d228c89-b89f-4cd6-9f66-9ac1e4d6a9b9",
   "metadata": {},
   "outputs": [],
   "source": [
    "a_file_path_completion = \"../README.md\""
   ]
  },
  {
   "cell_type": "code",
   "execution_count": 9,
   "id": "924c741c-a95a-42a7-81e1-8da34afacef9",
   "metadata": {},
   "outputs": [
    {
     "data": {
      "text/plain": [
       "'../README.md'"
      ]
     },
     "execution_count": 9,
     "metadata": {},
     "output_type": "execute_result"
    }
   ],
   "source": [
    "a_file_path_completion"
   ]
  },
  {
   "cell_type": "code",
   "execution_count": 10,
   "id": "2a11c3f3-040f-4af9-b766-540a636dd78e",
   "metadata": {},
   "outputs": [],
   "source": [
    "def func_with_keywords(abra=1, abbra=2, abbbra=3):\n",
    "    return abra, abbra, abbbra"
   ]
  },
  {
   "cell_type": "code",
   "execution_count": 11,
   "id": "7c6a95d5-79f3-4cbc-b1ef-dee4c86d7f00",
   "metadata": {},
   "outputs": [
    {
     "data": {
      "text/plain": [
       "(10, 15, 20)"
      ]
     },
     "execution_count": 11,
     "metadata": {},
     "output_type": "execute_result"
    }
   ],
   "source": [
    "func_with_keywords(abra=10, abbra=15, abbbra=20)"
   ]
  },
  {
   "cell_type": "code",
   "execution_count": 12,
   "id": "4f4efeeb-5edc-42cc-abd3-e629137f1ff4",
   "metadata": {},
   "outputs": [
    {
     "data": {
      "text/plain": [
       "(1, 2, 3)"
      ]
     },
     "execution_count": 12,
     "metadata": {},
     "output_type": "execute_result"
    }
   ],
   "source": [
    "func_with_keywords()"
   ]
  },
  {
   "cell_type": "code",
   "execution_count": 13,
   "id": "36b0f525-d593-4409-bfe0-b8c3f6ab0562",
   "metadata": {},
   "outputs": [
    {
     "name": "stdout",
     "output_type": "stream",
     "text": [
      "Object `func_with_keywords()` not found.\n"
     ]
    }
   ],
   "source": [
    "?func_with_keywords()"
   ]
  },
  {
   "cell_type": "code",
   "execution_count": 14,
   "id": "7fd25344-6db0-40a4-a588-e737f65a5ab7",
   "metadata": {},
   "outputs": [
    {
     "data": {
      "text/plain": [
       "\u001b[31mSignature:\u001b[39m func_with_keywords(abra=\u001b[32m1\u001b[39m, abbra=\u001b[32m2\u001b[39m, abbbra=\u001b[32m3\u001b[39m)\n",
       "\u001b[31mDocstring:\u001b[39m <no docstring>\n",
       "\u001b[31mFile:\u001b[39m      c:\\users\\leona\\appdata\\local\\temp\\ipykernel_4784\\1195437501.py\n",
       "\u001b[31mType:\u001b[39m      function"
      ]
     },
     "metadata": {},
     "output_type": "display_data"
    }
   ],
   "source": [
    "?func_with_keywords"
   ]
  },
  {
   "cell_type": "code",
   "execution_count": 15,
   "id": "6e4623f9-f3fb-4337-b2ea-cdfbf7308c1a",
   "metadata": {},
   "outputs": [
    {
     "data": {
      "text/plain": [
       "\u001b[31mSignature:\u001b[39m func_with_keywords(abra=\u001b[32m1\u001b[39m, abbra=\u001b[32m2\u001b[39m, abbbra=\u001b[32m3\u001b[39m)\n",
       "\u001b[31mDocstring:\u001b[39m <no docstring>\n",
       "\u001b[31mFile:\u001b[39m      c:\\users\\leona\\appdata\\local\\temp\\ipykernel_4784\\1195437501.py\n",
       "\u001b[31mType:\u001b[39m      function"
      ]
     },
     "metadata": {},
     "output_type": "display_data"
    }
   ],
   "source": [
    "func_with_keywords?"
   ]
  },
  {
   "cell_type": "code",
   "execution_count": 16,
   "id": "558ebfda-708d-4c71-aa35-f81c6792e28f",
   "metadata": {},
   "outputs": [
    {
     "data": {
      "text/plain": [
       "\u001b[31mType:\u001b[39m        list\n",
       "\u001b[31mString form:\u001b[39m [1, 2, 3]\n",
       "\u001b[31mLength:\u001b[39m      3\n",
       "\u001b[31mDocstring:\u001b[39m  \n",
       "Built-in mutable sequence.\n",
       "\n",
       "If no argument is given, the constructor creates a new empty list.\n",
       "The argument must be an iterable if specified."
      ]
     },
     "metadata": {},
     "output_type": "display_data"
    }
   ],
   "source": [
    "b?"
   ]
  },
  {
   "cell_type": "code",
   "execution_count": 17,
   "id": "550ea392-e90f-4457-8341-c358a69f7549",
   "metadata": {},
   "outputs": [
    {
     "data": {
      "text/plain": [
       "\u001b[31mSignature:\u001b[39m print(*args, sep=\u001b[33m' '\u001b[39m, end=\u001b[33m'\\n'\u001b[39m, file=\u001b[38;5;28;01mNone\u001b[39;00m, flush=\u001b[38;5;28;01mFalse\u001b[39;00m)\n",
       "\u001b[31mDocstring:\u001b[39m\n",
       "Prints the values to a stream, or to sys.stdout by default.\n",
       "\n",
       "sep\n",
       "  string inserted between values, default a space.\n",
       "end\n",
       "  string appended after the last value, default a newline.\n",
       "file\n",
       "  a file-like object (stream); defaults to the current sys.stdout.\n",
       "flush\n",
       "  whether to forcibly flush the stream.\n",
       "\u001b[31mType:\u001b[39m      builtin_function_or_method"
      ]
     },
     "metadata": {},
     "output_type": "display_data"
    }
   ],
   "source": [
    "print?"
   ]
  },
  {
   "cell_type": "code",
   "execution_count": 18,
   "id": "53f1a8c8-c9f5-4407-84e6-8c14a8d50cc7",
   "metadata": {},
   "outputs": [],
   "source": [
    "def add_numbers(a, b):\n",
    "    \"\"\"\n",
    "    Add two numbers together\n",
    "\n",
    "    Returns\n",
    "    -----------\n",
    "    the_sum : type of arguments\n",
    "    \"\"\"\n",
    "    return a + b"
   ]
  },
  {
   "cell_type": "code",
   "execution_count": 19,
   "id": "7b744eb4-7bb3-40c0-8921-adecca41054d",
   "metadata": {},
   "outputs": [
    {
     "data": {
      "text/plain": [
       "\u001b[31mSignature:\u001b[39m add_numbers(a, b)\n",
       "\u001b[31mDocstring:\u001b[39m\n",
       "Add two numbers together\n",
       "\n",
       "Returns\n",
       "-----------\n",
       "the_sum : type of arguments\n",
       "\u001b[31mFile:\u001b[39m      c:\\users\\leona\\appdata\\local\\temp\\ipykernel_4784\\996590490.py\n",
       "\u001b[31mType:\u001b[39m      function"
      ]
     },
     "metadata": {},
     "output_type": "display_data"
    }
   ],
   "source": [
    "add_numbers?"
   ]
  },
  {
   "cell_type": "code",
   "execution_count": 20,
   "id": "6f366166-f583-4afd-a2ac-ee599545ffe5",
   "metadata": {},
   "outputs": [],
   "source": [
    "import numpy as np"
   ]
  },
  {
   "cell_type": "code",
   "execution_count": 21,
   "id": "88bfe1f3-209c-4fae-93de-92ced76156ad",
   "metadata": {},
   "outputs": [
    {
     "data": {
      "text/plain": [
       "np.__loader__\n",
       "np.load\n",
       "np.loadtxt"
      ]
     },
     "metadata": {},
     "output_type": "display_data"
    }
   ],
   "source": [
    "np.*load*?"
   ]
  },
  {
   "cell_type": "code",
   "execution_count": null,
   "id": "3d35bbad-3c42-4750-b47c-1dbe471b7b4c",
   "metadata": {},
   "outputs": [],
   "source": []
  }
 ],
 "metadata": {
  "kernelspec": {
   "display_name": "Python 3 (ipykernel)",
   "language": "python",
   "name": "python3"
  },
  "language_info": {
   "codemirror_mode": {
    "name": "ipython",
    "version": 3
   },
   "file_extension": ".py",
   "mimetype": "text/x-python",
   "name": "python",
   "nbconvert_exporter": "python",
   "pygments_lexer": "ipython3",
   "version": "3.12.8"
  }
 },
 "nbformat": 4,
 "nbformat_minor": 5
}
